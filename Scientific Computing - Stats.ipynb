{
 "metadata": {
  "name": "",
  "signature": "sha256:becec7cc6bd1cb560d06fca6eb180d5242cb07943a05bd4a3d6be8997aad79c7"
 },
 "nbformat": 3,
 "nbformat_minor": 0,
 "worksheets": [
  {
   "cells": [
    {
     "cell_type": "code",
     "collapsed": false,
     "input": [
      "from scipy import stats\n",
      "# [k for k,v in stats.__dict__.items() if isinstance(v, stats.rv_continuous)]"
     ],
     "language": "python",
     "metadata": {},
     "outputs": [],
     "prompt_number": 8
    },
    {
     "cell_type": "code",
     "collapsed": false,
     "input": [
      "stats.norm.stats()"
     ],
     "language": "python",
     "metadata": {},
     "outputs": [
      {
       "metadata": {},
       "output_type": "pyout",
       "prompt_number": 9,
       "text": [
        "(array(0.0), array(1.0))"
       ]
      }
     ],
     "prompt_number": 9
    },
    {
     "cell_type": "code",
     "collapsed": false,
     "input": [
      "X = stats.norm(loc=1.0, scale=2.0)\n",
      "X.stats()"
     ],
     "language": "python",
     "metadata": {},
     "outputs": [
      {
       "metadata": {},
       "output_type": "pyout",
       "prompt_number": 11,
       "text": [
        "(array(1.0), array(4.0))"
       ]
      }
     ],
     "prompt_number": 11
    },
    {
     "cell_type": "code",
     "collapsed": false,
     "input": [
      "x = X.rvs(size=10000)\n",
      "np.mean(x)"
     ],
     "language": "python",
     "metadata": {},
     "outputs": [
      {
       "metadata": {},
       "output_type": "pyout",
       "prompt_number": 12,
       "text": [
        "1.016056474003352"
       ]
      }
     ],
     "prompt_number": 12
    },
    {
     "cell_type": "code",
     "collapsed": false,
     "input": [
      "np.var(x)"
     ],
     "language": "python",
     "metadata": {},
     "outputs": [
      {
       "metadata": {},
       "output_type": "pyout",
       "prompt_number": 13,
       "text": [
        "4.0254167319976881"
       ]
      }
     ],
     "prompt_number": 13
    },
    {
     "cell_type": "code",
     "collapsed": false,
     "input": [
      "stats.norm.fit(x)"
     ],
     "language": "python",
     "metadata": {},
     "outputs": [
      {
       "metadata": {},
       "output_type": "pyout",
       "prompt_number": 14,
       "text": [
        "(1.016056474003352, 2.0063441210315065)"
       ]
      }
     ],
     "prompt_number": 14
    },
    {
     "cell_type": "code",
     "collapsed": false,
     "input": [
      "t = np.arange(-10, 10, 0.01)\n",
      "pl.plot(t, X.pdf(t))\n",
      "p, t2 = np.histogram(x, bins=100, normed=True)\n",
      "t2 = (t2[:-1] + t2[1:])/2\n",
      "pl.plot(t2, p)"
     ],
     "language": "python",
     "metadata": {},
     "outputs": [
      {
       "metadata": {},
       "output_type": "pyout",
       "prompt_number": 19,
       "text": [
        "[<matplotlib.lines.Line2D at 0x1152b9a10>]"
       ]
      },
      {
       "metadata": {},
       "output_type": "display_data",
       "png": "[encoded data removed]",
       "text": [
        "<matplotlib.figure.Figure at 0x1152b90d0>"
       ]
      }
     ],
     "prompt_number": 19
    },
    {
     "cell_type": "code",
     "collapsed": false,
     "input": [
      "pl.plot(t, X.cdf(t))\n",
      "pl.plot(t2, np.add.accumulate(p)*(t2[1]-t2[0]))"
     ],
     "language": "python",
     "metadata": {},
     "outputs": [
      {
       "metadata": {},
       "output_type": "pyout",
       "prompt_number": 20,
       "text": [
        "[<matplotlib.lines.Line2D at 0x11534e0d0>]"
       ]
      },
      {
       "metadata": {},
       "output_type": "display_data",
       "png": "[encoded data removed]",
       "text": [
        "<matplotlib.figure.Figure at 0x115350d50>"
       ]
      }
     ],
     "prompt_number": 20
    },
    {
     "cell_type": "code",
     "collapsed": false,
     "input": [
      "stats.gamma.stats(1.0)"
     ],
     "language": "python",
     "metadata": {},
     "outputs": [
      {
       "metadata": {},
       "output_type": "pyout",
       "prompt_number": 21,
       "text": [
        "(array(1.0), array(1.0))"
       ]
      }
     ],
     "prompt_number": 21
    },
    {
     "cell_type": "code",
     "collapsed": false,
     "input": [
      "stats.gamma.stats(2.0)"
     ],
     "language": "python",
     "metadata": {},
     "outputs": [
      {
       "metadata": {},
       "output_type": "pyout",
       "prompt_number": 22,
       "text": [
        "(array(2.0), array(2.0))"
       ]
      }
     ],
     "prompt_number": 22
    },
    {
     "cell_type": "code",
     "collapsed": false,
     "input": [
      "stats.gamma.stats(2.0, scale=2)"
     ],
     "language": "python",
     "metadata": {},
     "outputs": [
      {
       "metadata": {},
       "output_type": "pyout",
       "prompt_number": 23,
       "text": [
        "(array(4.0), array(8.0))"
       ]
      }
     ],
     "prompt_number": 23
    },
    {
     "cell_type": "code",
     "collapsed": false,
     "input": [
      "x = stats.gamma.rvs(2, scale=2, size=4)\n",
      "x"
     ],
     "language": "python",
     "metadata": {},
     "outputs": [
      {
       "metadata": {},
       "output_type": "pyout",
       "prompt_number": 24,
       "text": [
        "array([ 12.71366961,  13.7686548 ,   1.56256112,   1.61465468])"
       ]
      }
     ],
     "prompt_number": 24
    },
    {
     "cell_type": "code",
     "collapsed": false,
     "input": [
      "stats.gamma.pdf(x, 2, scale=2)"
     ],
     "language": "python",
     "metadata": {},
     "outputs": [
      {
       "metadata": {},
       "output_type": "pyout",
       "prompt_number": 25,
       "text": [
        "array([ 0.00551407,  0.00352376,  0.17884269,  0.18005362])"
       ]
      }
     ],
     "prompt_number": 25
    },
    {
     "cell_type": "code",
     "collapsed": false,
     "input": [
      "X = stats.gamma(2, scale=2)\n",
      "X.pdf(x)"
     ],
     "language": "python",
     "metadata": {},
     "outputs": [
      {
       "metadata": {},
       "output_type": "pyout",
       "prompt_number": 26,
       "text": [
        "array([ 0.00551407,  0.00352376,  0.17884269,  0.18005362])"
       ]
      }
     ],
     "prompt_number": 26
    },
    {
     "cell_type": "code",
     "collapsed": false,
     "input": [
      "x = range(1, 7)\n",
      "p = (0.4, 0.2, 0.1, 0.1, 0.1, 0.1)\n",
      "dice = stats.rv_discrete(values=(x,p))\n",
      "R = dice.rvs(size=20)\n",
      "R"
     ],
     "language": "python",
     "metadata": {},
     "outputs": [
      {
       "metadata": {},
       "output_type": "pyout",
       "prompt_number": 32,
       "text": [
        "array([1, 2, 4, 1, 4, 1, 3, 3, 4, 1, 5, 5, 1, 1, 1, 4, 6, 4, 2, 1])"
       ]
      }
     ],
     "prompt_number": 32
    },
    {
     "cell_type": "code",
     "collapsed": false,
     "input": [
      "stats.binom.pmf(range(6), 5, 1/6.0)"
     ],
     "language": "python",
     "metadata": {},
     "outputs": [
      {
       "metadata": {},
       "output_type": "pyout",
       "prompt_number": 34,
       "text": [
        "array([  4.01877572e-01,   4.01877572e-01,   1.60751029e-01,\n",
        "         3.21502058e-02,   3.21502058e-03,   1.28600823e-04])"
       ]
      }
     ],
     "prompt_number": 34
    },
    {
     "cell_type": "code",
     "collapsed": false,
     "input": [
      "_lambda = 10.0\n",
      "k = np.arange(20)\n",
      "possion = stats.poisson.pmf(k, _lambda)\n",
      "binom100 = stats.binom.pmf(k, 100, _lambda/100)\n",
      "binom1000 = stats.binom.pmf(k, 1000, _lambda/1000)\n",
      "np.max(np.abs(binom1000 - possion))"
     ],
     "language": "python",
     "metadata": {},
     "outputs": [
      {
       "metadata": {},
       "output_type": "pyout",
       "prompt_number": 35,
       "text": [
        "0.00063017540497775637"
       ]
      }
     ],
     "prompt_number": 35
    },
    {
     "cell_type": "code",
     "collapsed": false,
     "input": [
      "_lambda = 10.0\n",
      "x = np.arange(20)\n",
      "pl.figure(figsize=(10,4))\n",
      "for i, n in enumerate([100, 1000]):\n",
      "    pl.subplot(121+i)\n",
      "    y1 = stats.binom.pmf(x, n, _lambda/n)\n",
      "    y2 = stats.poisson.pmf(x, _lambda)\n",
      "    pl.plot(x, y1, label=u\"binom\", lw=2)\n",
      "    pl.plot(x, y2, label=u\"poisson\", lw=2, color=\"red\")\n",
      "    pl.xlabel(u\"times\")\n",
      "    pl.ylabel(u\"prob\")\n",
      "    pl.title(\"n=%d\" % n)\n",
      "    pl.legend()\n",
      "\n",
      "pl.subplots_adjust(0.1, 0.15, 0.95, 0.90, 0.2, 0.1)"
     ],
     "language": "python",
     "metadata": {},
     "outputs": [
      {
       "metadata": {},
       "output_type": "display_data",
       "png": "[encoded data removed]",
       "text": [
        "<matplotlib.figure.Figure at 0x1157ffc90>"
       ]
      }
     ],
     "prompt_number": 37
    },
    {
     "cell_type": "code",
     "collapsed": false,
     "input": [
      "_lambda = 10\n",
      "time = 10000\n",
      "t = np.random.rand(_lambda*time)*time\n",
      "count, time_edges = np.histogram(t, bins=time, range=(0,time))\n",
      "count"
     ],
     "language": "python",
     "metadata": {},
     "outputs": [
      {
       "metadata": {},
       "output_type": "pyout",
       "prompt_number": 39,
       "text": [
        "array([ 2,  8,  7, ..., 12,  9, 14])"
       ]
      }
     ],
     "prompt_number": 39
    },
    {
     "cell_type": "code",
     "collapsed": false,
     "input": [
      "dist, count_edges = np.histogram(count, bins=20, range=(0,20), normed=True)\n",
      "poisson = stats.poisson.pmf(x, _lambda)\n",
      "np.max(np.abs(dist-possion))"
     ],
     "language": "python",
     "metadata": {},
     "outputs": [
      {
       "metadata": {},
       "output_type": "pyout",
       "prompt_number": 40,
       "text": [
        "0.0053381726032629973"
       ]
      }
     ],
     "prompt_number": 40
    },
    {
     "cell_type": "code",
     "collapsed": false,
     "input": [
      "_lambda = 10\n",
      "time = 1000\n",
      "pl.figure(figsize=(10,4))\n",
      "t = np.random.rand(_lambda*time)*time\n",
      "t.sort()\n",
      "for i, k in enumerate([1,2]):\n",
      "    interval = t[k:] - t[:-k]\n",
      "    dist, interval_edges = np.histogram(interval, bins=100, normed=True)\n",
      "    x = (interval_edges[1:] +interval_edges[:-1])/2\n",
      "    gamma = stats.gamma.pdf(x, k, scale=1.0/_lambda)\n",
      "    pl.subplot(121+i)\n",
      "    pl.plot(x, dist,  lw=2, label=\"Results\")\n",
      "    pl.plot(x, gamma, lw=2, label=\"Gamma\", color=\"red\")\n",
      "    pl.xlabel(\"inteval\")\n",
      "    pl.ylabel(\"prob\")\n",
      "    pl.title(\"k = %d\" % k)\n",
      "    pl.legend()\n",
      "pl.subplots_adjust(0.1, 0.15, 0.95, 0.90, 0.2, 0.1)    "
     ],
     "language": "python",
     "metadata": {},
     "outputs": [
      {
       "metadata": {},
       "output_type": "display_data",
       "png": "[encoded data removed]",
       "text": [
        "<matplotlib.figure.Figure at 0x11546e790>"
       ]
      }
     ],
     "prompt_number": 42
    },
    {
     "cell_type": "code",
     "collapsed": false,
     "input": [
      "_lambda = 10\n",
      "time = 10000\n",
      "t = np.random.rand(_lambda*time)*time\n",
      "t.sort()\n",
      "t"
     ],
     "language": "python",
     "metadata": {},
     "outputs": [
      {
       "metadata": {},
       "output_type": "pyout",
       "prompt_number": 44,
       "text": [
        "array([  1.01378259e-01,   2.08474691e-01,   2.33541221e-01, ...,\n",
        "         9.99983315e+03,   9.99988388e+03,   9.99990724e+03])"
       ]
      }
     ],
     "prompt_number": 44
    },
    {
     "cell_type": "code",
     "collapsed": false,
     "input": [
      "s1 = t[1:] - t[:-1]\n",
      "s2 = t[2:] - t[:-2]\n",
      "dist1, x1 = np.histogram(s1, bins=100, normed=True)\n",
      "dist2, x2 = np.histogram(s2, bins=100, normed=True)"
     ],
     "language": "python",
     "metadata": {},
     "outputs": [],
     "prompt_number": 45
    },
    {
     "cell_type": "code",
     "collapsed": false,
     "input": [
      "gamma1 = stats.gamma.pdf((x1[:-1] + x1[1:])/2, 1, scale=1.0/_lambda)\n",
      "gamma2 = stats.gamma.pdf((x2[:-1] + x2[1:])/2, 2, scale=1.0/_lambda)\n",
      "np.max(np.abs(gamma1 - dist1))"
     ],
     "language": "python",
     "metadata": {},
     "outputs": [
      {
       "metadata": {},
       "output_type": "pyout",
       "prompt_number": 46,
       "text": [
        "0.22935400592494659"
       ]
      }
     ],
     "prompt_number": 46
    },
    {
     "cell_type": "code",
     "collapsed": false,
     "input": [
      "np.max(np.abs(gamma2 - dist2))"
     ],
     "language": "python",
     "metadata": {},
     "outputs": [
      {
       "metadata": {},
       "output_type": "pyout",
       "prompt_number": 47,
       "text": [
        "0.11443637522681271"
       ]
      }
     ],
     "prompt_number": 47
    },
    {
     "cell_type": "code",
     "collapsed": false,
     "input": [
      "np.max(gamma1), np.max(gamma2)"
     ],
     "language": "python",
     "metadata": {},
     "outputs": [
      {
       "metadata": {},
       "output_type": "pyout",
       "prompt_number": 48,
       "text": [
        "(9.4444240397161572, 3.6775294132581018)"
       ]
      }
     ],
     "prompt_number": 48
    },
    {
     "cell_type": "code",
     "collapsed": false,
     "input": [],
     "language": "python",
     "metadata": {},
     "outputs": []
    }
   ],
   "metadata": {}
  }
 ]
}