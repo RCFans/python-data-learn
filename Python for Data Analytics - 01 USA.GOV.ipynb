{
 "metadata": {
  "name": "",
  "signature": "sha256:779a9284dde495c95765d751612968be95836a5f4f8cf6081572cd05ba774e38"
 },
 "nbformat": 3,
 "nbformat_minor": 0,
 "worksheets": [
  {
   "cells": [
    {
     "cell_type": "code",
     "collapsed": false,
     "input": [
      "import pandas as pd"
     ],
     "language": "python",
     "metadata": {},
     "outputs": [],
     "prompt_number": 1
    },
    {
     "cell_type": "code",
     "collapsed": false,
     "input": [
      "path = 'data/usa.txt'"
     ],
     "language": "python",
     "metadata": {},
     "outputs": [],
     "prompt_number": 4
    },
    {
     "cell_type": "code",
     "collapsed": false,
     "input": [
      "open(path).readline()"
     ],
     "language": "python",
     "metadata": {},
     "outputs": [
      {
       "metadata": {},
       "output_type": "pyout",
       "prompt_number": 5,
       "text": [
        "'{ \"a\": \"Mozilla/5.0 (Windows NT 6.1; WOW64) AppleWebKit/535.11 (KHTML, like Gecko) Chrome/17.0.963.78 Safari/535.11\", \"c\": \"US\", \"nk\": 1, \"tz\": \"America/New_York\", \"gr\": \"MA\", \"g\": \"A6qOVH\", \"h\": \"wfLQtf\", \"l\": \"orofrog\", \"al\": \"en-US,en;q=0.8\", \"hh\": \"1.usa.gov\", \"r\": \"http://www.facebook.com/l/7AQEFzjSi/1.usa.gov/wfLQtf\", \"u\": \"http://www.ncbi.nlm.nih.gov/pubmed/22415991\", \"t\": 1331923247, \"hc\": 1331822918, \"cy\": \"Danvers\", \"ll\": [ 42.576698, -70.954903 ] }\\n'"
       ]
      }
     ],
     "prompt_number": 5
    },
    {
     "cell_type": "code",
     "collapsed": false,
     "input": [
      "import json"
     ],
     "language": "python",
     "metadata": {},
     "outputs": [],
     "prompt_number": 6
    },
    {
     "cell_type": "code",
     "collapsed": false,
     "input": [
      "records = [json.loads(line) for line in open(path)]"
     ],
     "language": "python",
     "metadata": {},
     "outputs": [],
     "prompt_number": 49
    },
    {
     "cell_type": "code",
     "collapsed": false,
     "input": [
      "records[0]"
     ],
     "language": "python",
     "metadata": {},
     "outputs": [
      {
       "metadata": {},
       "output_type": "pyout",
       "prompt_number": 50,
       "text": [
        "{u'a': u'Mozilla/5.0 (Windows NT 6.1; WOW64) AppleWebKit/535.11 (KHTML, like Gecko) Chrome/17.0.963.78 Safari/535.11',\n",
        " u'al': u'en-US,en;q=0.8',\n",
        " u'c': u'US',\n",
        " u'cy': u'Danvers',\n",
        " u'g': u'A6qOVH',\n",
        " u'gr': u'MA',\n",
        " u'h': u'wfLQtf',\n",
        " u'hc': 1331822918,\n",
        " u'hh': u'1.usa.gov',\n",
        " u'l': u'orofrog',\n",
        " u'll': [42.576698, -70.954903],\n",
        " u'nk': 1,\n",
        " u'r': u'http://www.facebook.com/l/7AQEFzjSi/1.usa.gov/wfLQtf',\n",
        " u't': 1331923247,\n",
        " u'tz': u'America/New_York',\n",
        " u'u': u'http://www.ncbi.nlm.nih.gov/pubmed/22415991'}"
       ]
      }
     ],
     "prompt_number": 50
    },
    {
     "cell_type": "code",
     "collapsed": false,
     "input": [
      "records[0]['tz']"
     ],
     "language": "python",
     "metadata": {},
     "outputs": [
      {
       "metadata": {},
       "output_type": "pyout",
       "prompt_number": 51,
       "text": [
        "u'America/New_York'"
       ]
      }
     ],
     "prompt_number": 51
    },
    {
     "cell_type": "code",
     "collapsed": false,
     "input": [
      "print records[0]['tz']"
     ],
     "language": "python",
     "metadata": {},
     "outputs": [
      {
       "output_type": "stream",
       "stream": "stdout",
       "text": [
        "America/New_York\n"
       ]
      }
     ],
     "prompt_number": 52
    },
    {
     "cell_type": "code",
     "collapsed": false,
     "input": [
      "time_zones = [rec['tz'] for rec in records]"
     ],
     "language": "python",
     "metadata": {},
     "outputs": [
      {
       "ename": "KeyError",
       "evalue": "'tz'",
       "output_type": "pyerr",
       "traceback": [
        "\u001b[0;31m---------------------------------------------------------------------------\u001b[0m\n\u001b[0;31mKeyError\u001b[0m                                  Traceback (most recent call last)",
        "\u001b[0;32m<ipython-input-53-db4fbd348da9>\u001b[0m in \u001b[0;36m<module>\u001b[0;34m()\u001b[0m\n\u001b[0;32m----> 1\u001b[0;31m \u001b[0mtime_zones\u001b[0m \u001b[0;34m=\u001b[0m \u001b[0;34m[\u001b[0m\u001b[0mrec\u001b[0m\u001b[0;34m[\u001b[0m\u001b[0;34m'tz'\u001b[0m\u001b[0;34m]\u001b[0m \u001b[0;32mfor\u001b[0m \u001b[0mrec\u001b[0m \u001b[0;32min\u001b[0m \u001b[0mrecords\u001b[0m\u001b[0;34m]\u001b[0m\u001b[0;34m\u001b[0m\u001b[0m\n\u001b[0m",
        "\u001b[0;31mKeyError\u001b[0m: 'tz'"
       ]
      }
     ],
     "prompt_number": 53
    },
    {
     "cell_type": "code",
     "collapsed": false,
     "input": [
      "time_zones = [rec['tz'] for rec in records if 'tz' in rec]"
     ],
     "language": "python",
     "metadata": {},
     "outputs": [],
     "prompt_number": 57
    },
    {
     "cell_type": "code",
     "collapsed": false,
     "input": [
      "time_zones[:10]"
     ],
     "language": "python",
     "metadata": {},
     "outputs": [
      {
       "metadata": {},
       "output_type": "pyout",
       "prompt_number": 58,
       "text": [
        "[u'America/New_York',\n",
        " u'America/Denver',\n",
        " u'America/New_York',\n",
        " u'America/Sao_Paulo',\n",
        " u'America/New_York',\n",
        " u'America/New_York',\n",
        " u'Europe/Warsaw',\n",
        " u'',\n",
        " u'',\n",
        " u'']"
       ]
      }
     ],
     "prompt_number": 58
    },
    {
     "cell_type": "code",
     "collapsed": false,
     "input": [
      "def get_counts(sequence):\n",
      "    counts = {}\n",
      "    for x in sequence:\n",
      "        if x in counts:\n",
      "            counts[x] += 1\n",
      "        else:\n",
      "            counts[x] = 1\n",
      "    return counts"
     ],
     "language": "python",
     "metadata": {},
     "outputs": [],
     "prompt_number": 59
    },
    {
     "cell_type": "code",
     "collapsed": false,
     "input": [
      "get_counts(time_zones)"
     ],
     "language": "python",
     "metadata": {},
     "outputs": [
      {
       "metadata": {},
       "output_type": "pyout",
       "prompt_number": 60,
       "text": [
        "{u'': 521,\n",
        " u'Africa/Cairo': 3,\n",
        " u'Africa/Casablanca': 1,\n",
        " u'Africa/Ceuta': 2,\n",
        " u'Africa/Johannesburg': 1,\n",
        " u'Africa/Lusaka': 1,\n",
        " u'America/Anchorage': 5,\n",
        " u'America/Argentina/Buenos_Aires': 1,\n",
        " u'America/Argentina/Cordoba': 1,\n",
        " u'America/Argentina/Mendoza': 1,\n",
        " u'America/Bogota': 3,\n",
        " u'America/Caracas': 1,\n",
        " u'America/Chicago': 400,\n",
        " u'America/Chihuahua': 2,\n",
        " u'America/Costa_Rica': 1,\n",
        " u'America/Denver': 191,\n",
        " u'America/Edmonton': 6,\n",
        " u'America/Guayaquil': 2,\n",
        " u'America/Halifax': 4,\n",
        " u'America/Indianapolis': 20,\n",
        " u'America/La_Paz': 1,\n",
        " u'America/Lima': 1,\n",
        " u'America/Los_Angeles': 382,\n",
        " u'America/Managua': 3,\n",
        " u'America/Mazatlan': 1,\n",
        " u'America/Mexico_City': 15,\n",
        " u'America/Monterrey': 1,\n",
        " u'America/Montevideo': 1,\n",
        " u'America/Montreal': 9,\n",
        " u'America/New_York': 1251,\n",
        " u'America/Phoenix': 20,\n",
        " u'America/Puerto_Rico': 10,\n",
        " u'America/Rainy_River': 25,\n",
        " u'America/Recife': 2,\n",
        " u'America/Santo_Domingo': 1,\n",
        " u'America/Sao_Paulo': 33,\n",
        " u'America/St_Kitts': 1,\n",
        " u'America/Tegucigalpa': 1,\n",
        " u'America/Vancouver': 12,\n",
        " u'America/Winnipeg': 4,\n",
        " u'Asia/Amman': 2,\n",
        " u'Asia/Bangkok': 6,\n",
        " u'Asia/Beirut': 4,\n",
        " u'Asia/Calcutta': 9,\n",
        " u'Asia/Dubai': 4,\n",
        " u'Asia/Harbin': 3,\n",
        " u'Asia/Hong_Kong': 10,\n",
        " u'Asia/Istanbul': 9,\n",
        " u'Asia/Jakarta': 3,\n",
        " u'Asia/Jerusalem': 3,\n",
        " u'Asia/Karachi': 3,\n",
        " u'Asia/Kuala_Lumpur': 3,\n",
        " u'Asia/Kuching': 1,\n",
        " u'Asia/Manila': 1,\n",
        " u'Asia/Nicosia': 1,\n",
        " u'Asia/Novosibirsk': 1,\n",
        " u'Asia/Pontianak': 1,\n",
        " u'Asia/Riyadh': 1,\n",
        " u'Asia/Seoul': 5,\n",
        " u'Asia/Tokyo': 37,\n",
        " u'Asia/Yekaterinburg': 1,\n",
        " u'Australia/NSW': 6,\n",
        " u'Australia/Queensland': 1,\n",
        " u'Chile/Continental': 6,\n",
        " u'Europe/Amsterdam': 22,\n",
        " u'Europe/Athens': 6,\n",
        " u'Europe/Belgrade': 2,\n",
        " u'Europe/Berlin': 28,\n",
        " u'Europe/Bratislava': 3,\n",
        " u'Europe/Brussels': 4,\n",
        " u'Europe/Bucharest': 4,\n",
        " u'Europe/Budapest': 5,\n",
        " u'Europe/Copenhagen': 5,\n",
        " u'Europe/Dublin': 3,\n",
        " u'Europe/Helsinki': 10,\n",
        " u'Europe/Lisbon': 8,\n",
        " u'Europe/Ljubljana': 1,\n",
        " u'Europe/London': 74,\n",
        " u'Europe/Madrid': 35,\n",
        " u'Europe/Malta': 2,\n",
        " u'Europe/Moscow': 10,\n",
        " u'Europe/Oslo': 10,\n",
        " u'Europe/Paris': 14,\n",
        " u'Europe/Prague': 10,\n",
        " u'Europe/Riga': 2,\n",
        " u'Europe/Rome': 27,\n",
        " u'Europe/Skopje': 1,\n",
        " u'Europe/Sofia': 1,\n",
        " u'Europe/Stockholm': 14,\n",
        " u'Europe/Uzhgorod': 1,\n",
        " u'Europe/Vienna': 6,\n",
        " u'Europe/Vilnius': 2,\n",
        " u'Europe/Volgograd': 1,\n",
        " u'Europe/Warsaw': 16,\n",
        " u'Europe/Zurich': 4,\n",
        " u'Pacific/Auckland': 11,\n",
        " u'Pacific/Honolulu': 36}"
       ]
      }
     ],
     "prompt_number": 60
    },
    {
     "cell_type": "code",
     "collapsed": false,
     "input": [
      "from collections import defaultdict\n",
      "def get_counts2(sequence):\n",
      "    counts = defaultdict(int) # values will initialize to 0\n",
      "    for x in sequence:\n",
      "        counts[x] += 1\n",
      "    return counts"
     ],
     "language": "python",
     "metadata": {},
     "outputs": [],
     "prompt_number": 61
    },
    {
     "cell_type": "code",
     "collapsed": false,
     "input": [
      "get_counts2(time_zones)"
     ],
     "language": "python",
     "metadata": {},
     "outputs": [
      {
       "metadata": {},
       "output_type": "pyout",
       "prompt_number": 62,
       "text": [
        "defaultdict(<type 'int'>, {u'': 521, u'Europe/Lisbon': 8, u'Asia/Calcutta': 9, u'Europe/Skopje': 1, u'Europe/Copenhagen': 5, u'Europe/Amsterdam': 22, u'America/Phoenix': 20, u'Europe/Moscow': 10, u'Europe/Madrid': 35, u'Asia/Dubai': 4, u'Asia/Hong_Kong': 10, u'America/Rainy_River': 25, u'Europe/Paris': 14, u'Europe/Stockholm': 14, u'Europe/Athens': 6, u'America/Indianapolis': 20, u'America/Mexico_City': 15, u'America/Puerto_Rico': 10, u'Asia/Manila': 1, u'Europe/Berlin': 28, u'Europe/Zurich': 4, u'Africa/Casablanca': 1, u'Asia/Karachi': 3, u'Europe/Rome': 27, u'Asia/Harbin': 3, u'Asia/Kuching': 1, u'America/Monterrey': 1, u'Asia/Yekaterinburg': 1, u'America/Lima': 1, u'Pacific/Honolulu': 36, u'Europe/Helsinki': 10, u'Pacific/Auckland': 11, u'America/Mazatlan': 1, u'America/Tegucigalpa': 1, u'Europe/Belgrade': 2, u'Europe/Prague': 10, u'America/Argentina/Cordoba': 1, u'America/Halifax': 4, u'America/St_Kitts': 1, u'Europe/Budapest': 5, u'America/Los_Angeles': 382, u'Asia/Amman': 2, u'America/Chihuahua': 2, u'America/Vancouver': 12, u'Asia/Nicosia': 1, u'Europe/Volgograd': 1, u'Europe/Uzhgorod': 1, u'America/Sao_Paulo': 33, u'America/Edmonton': 6, u'Asia/Tokyo': 37, u'Asia/Jakarta': 3, u'Africa/Johannesburg': 1, u'Europe/Riga': 2, u'Chile/Continental': 6, u'America/Argentina/Buenos_Aires': 1, u'Asia/Istanbul': 9, u'Europe/Bucharest': 4, u'Europe/Malta': 2, u'Asia/Bangkok': 6, u'America/Bogota': 3, u'America/Costa_Rica': 1, u'America/Winnipeg': 4, u'America/Recife': 2, u'America/Chicago': 400, u'Europe/Vilnius': 2, u'America/La_Paz': 1, u'Africa/Cairo': 3, u'Africa/Lusaka': 1, u'Europe/Brussels': 4, u'Asia/Jerusalem': 3, u'Europe/Oslo': 10, u'Australia/NSW': 6, u'America/Caracas': 1, u'Africa/Ceuta': 2, u'Asia/Beirut': 4, u'America/Guayaquil': 2, u'Asia/Kuala_Lumpur': 3, u'America/Denver': 191, u'Asia/Riyadh': 1, u'Europe/Ljubljana': 1, u'Europe/London': 74, u'Europe/Warsaw': 16, u'America/Montevideo': 1, u'America/Managua': 3, u'Asia/Pontianak': 1, u'Australia/Queensland': 1, u'America/Santo_Domingo': 1, u'Asia/Novosibirsk': 1, u'Europe/Bratislava': 3, u'Europe/Vienna': 6, u'America/New_York': 1251, u'Europe/Dublin': 3, u'Europe/Sofia': 1, u'America/Argentina/Mendoza': 1, u'America/Montreal': 9, u'America/Anchorage': 5, u'Asia/Seoul': 5})"
       ]
      }
     ],
     "prompt_number": 62
    },
    {
     "cell_type": "code",
     "collapsed": false,
     "input": [
      "len(time_zones)"
     ],
     "language": "python",
     "metadata": {},
     "outputs": [
      {
       "metadata": {},
       "output_type": "pyout",
       "prompt_number": 63,
       "text": [
        "3440"
       ]
      }
     ],
     "prompt_number": 63
    },
    {
     "cell_type": "code",
     "collapsed": false,
     "input": [
      "def top_counts(count_dict, n=10):\n",
      "    value_key_pairs = [(count, tz) for tz, count in count_dict.items()]\n",
      "    value_key_pairs.sort()\n",
      "    return value_key_pairs[-n:]"
     ],
     "language": "python",
     "metadata": {},
     "outputs": [],
     "prompt_number": 66
    },
    {
     "cell_type": "code",
     "collapsed": false,
     "input": [
      "top_counts(get_counts(time_zones))"
     ],
     "language": "python",
     "metadata": {},
     "outputs": [
      {
       "metadata": {},
       "output_type": "pyout",
       "prompt_number": 67,
       "text": [
        "[(33, u'America/Sao_Paulo'),\n",
        " (35, u'Europe/Madrid'),\n",
        " (36, u'Pacific/Honolulu'),\n",
        " (37, u'Asia/Tokyo'),\n",
        " (74, u'Europe/London'),\n",
        " (191, u'America/Denver'),\n",
        " (382, u'America/Los_Angeles'),\n",
        " (400, u'America/Chicago'),\n",
        " (521, u''),\n",
        " (1251, u'America/New_York')]"
       ]
      }
     ],
     "prompt_number": 67
    },
    {
     "cell_type": "code",
     "collapsed": false,
     "input": [
      "from pandas import DataFrame, Series\n",
      "import pandas as pd\n",
      "frame = DataFrame(records)\n",
      "frame.head()"
     ],
     "language": "python",
     "metadata": {},
     "outputs": [
      {
       "html": [
        "<div style=\"max-height:1000px;max-width:1500px;overflow:auto;\">\n",
        "<table border=\"1\" class=\"dataframe\">\n",
        "  <thead>\n",
        "    <tr style=\"text-align: right;\">\n",
        "      <th></th>\n",
        "      <th>_heartbeat_</th>\n",
        "      <th>a</th>\n",
        "      <th>al</th>\n",
        "      <th>c</th>\n",
        "      <th>cy</th>\n",
        "      <th>g</th>\n",
        "      <th>gr</th>\n",
        "      <th>h</th>\n",
        "      <th>hc</th>\n",
        "      <th>hh</th>\n",
        "      <th>kw</th>\n",
        "      <th>l</th>\n",
        "      <th>ll</th>\n",
        "      <th>nk</th>\n",
        "      <th>r</th>\n",
        "      <th>t</th>\n",
        "      <th>tz</th>\n",
        "      <th>u</th>\n",
        "    </tr>\n",
        "  </thead>\n",
        "  <tbody>\n",
        "    <tr>\n",
        "      <th>0</th>\n",
        "      <td>NaN</td>\n",
        "      <td> Mozilla/5.0 (Windows NT 6.1; WOW64) AppleWebKi...</td>\n",
        "      <td> en-US,en;q=0.8</td>\n",
        "      <td> US</td>\n",
        "      <td>    Danvers</td>\n",
        "      <td> A6qOVH</td>\n",
        "      <td> MA</td>\n",
        "      <td> wfLQtf</td>\n",
        "      <td> 1331822918</td>\n",
        "      <td> 1.usa.gov</td>\n",
        "      <td> NaN</td>\n",
        "      <td>  orofrog</td>\n",
        "      <td>  [42.576698, -70.954903]</td>\n",
        "      <td> 1</td>\n",
        "      <td> http://www.facebook.com/l/7AQEFzjSi/1.usa.gov/...</td>\n",
        "      <td> 1331923247</td>\n",
        "      <td>  America/New_York</td>\n",
        "      <td>       http://www.ncbi.nlm.nih.gov/pubmed/22415991</td>\n",
        "    </tr>\n",
        "    <tr>\n",
        "      <th>1</th>\n",
        "      <td>NaN</td>\n",
        "      <td>                            GoogleMaps/RochesterNY</td>\n",
        "      <td>            NaN</td>\n",
        "      <td> US</td>\n",
        "      <td>      Provo</td>\n",
        "      <td> mwszkS</td>\n",
        "      <td> UT</td>\n",
        "      <td> mwszkS</td>\n",
        "      <td> 1308262393</td>\n",
        "      <td>      j.mp</td>\n",
        "      <td> NaN</td>\n",
        "      <td>    bitly</td>\n",
        "      <td> [40.218102, -111.613297]</td>\n",
        "      <td> 0</td>\n",
        "      <td>                          http://www.AwareMap.com/</td>\n",
        "      <td> 1331923249</td>\n",
        "      <td>    America/Denver</td>\n",
        "      <td>       http://www.monroecounty.gov/etc/911/rss.php</td>\n",
        "    </tr>\n",
        "    <tr>\n",
        "      <th>2</th>\n",
        "      <td>NaN</td>\n",
        "      <td> Mozilla/4.0 (compatible; MSIE 8.0; Windows NT ...</td>\n",
        "      <td>          en-US</td>\n",
        "      <td> US</td>\n",
        "      <td> Washington</td>\n",
        "      <td> xxr3Qb</td>\n",
        "      <td> DC</td>\n",
        "      <td> xxr3Qb</td>\n",
        "      <td> 1331919941</td>\n",
        "      <td> 1.usa.gov</td>\n",
        "      <td> NaN</td>\n",
        "      <td>    bitly</td>\n",
        "      <td>    [38.9007, -77.043098]</td>\n",
        "      <td> 1</td>\n",
        "      <td>                              http://t.co/03elZC4Q</td>\n",
        "      <td> 1331923250</td>\n",
        "      <td>  America/New_York</td>\n",
        "      <td> http://boxer.senate.gov/en/press/releases/0316...</td>\n",
        "    </tr>\n",
        "    <tr>\n",
        "      <th>3</th>\n",
        "      <td>NaN</td>\n",
        "      <td> Mozilla/5.0 (Macintosh; Intel Mac OS X 10_6_8)...</td>\n",
        "      <td>          pt-br</td>\n",
        "      <td> BR</td>\n",
        "      <td>       Braz</td>\n",
        "      <td> zCaLwp</td>\n",
        "      <td> 27</td>\n",
        "      <td> zUtuOu</td>\n",
        "      <td> 1331923068</td>\n",
        "      <td> 1.usa.gov</td>\n",
        "      <td> NaN</td>\n",
        "      <td> alelex88</td>\n",
        "      <td> [-23.549999, -46.616699]</td>\n",
        "      <td> 0</td>\n",
        "      <td>                                            direct</td>\n",
        "      <td> 1331923249</td>\n",
        "      <td> America/Sao_Paulo</td>\n",
        "      <td>           http://apod.nasa.gov/apod/ap120312.html</td>\n",
        "    </tr>\n",
        "    <tr>\n",
        "      <th>4</th>\n",
        "      <td>NaN</td>\n",
        "      <td> Mozilla/5.0 (Windows NT 6.1; WOW64) AppleWebKi...</td>\n",
        "      <td> en-US,en;q=0.8</td>\n",
        "      <td> US</td>\n",
        "      <td> Shrewsbury</td>\n",
        "      <td> 9b6kNl</td>\n",
        "      <td> MA</td>\n",
        "      <td> 9b6kNl</td>\n",
        "      <td> 1273672411</td>\n",
        "      <td>    bit.ly</td>\n",
        "      <td> NaN</td>\n",
        "      <td>    bitly</td>\n",
        "      <td>  [42.286499, -71.714699]</td>\n",
        "      <td> 0</td>\n",
        "      <td>               http://www.shrewsbury-ma.gov/selco/</td>\n",
        "      <td> 1331923251</td>\n",
        "      <td>  America/New_York</td>\n",
        "      <td> http://www.shrewsbury-ma.gov/egov/gallery/1341...</td>\n",
        "    </tr>\n",
        "  </tbody>\n",
        "</table>\n",
        "</div>"
       ],
       "metadata": {},
       "output_type": "pyout",
       "prompt_number": 69,
       "text": [
        "   _heartbeat_                                                  a  \\\n",
        "0          NaN  Mozilla/5.0 (Windows NT 6.1; WOW64) AppleWebKi...   \n",
        "1          NaN                             GoogleMaps/RochesterNY   \n",
        "2          NaN  Mozilla/4.0 (compatible; MSIE 8.0; Windows NT ...   \n",
        "3          NaN  Mozilla/5.0 (Macintosh; Intel Mac OS X 10_6_8)...   \n",
        "4          NaN  Mozilla/5.0 (Windows NT 6.1; WOW64) AppleWebKi...   \n",
        "\n",
        "               al   c          cy       g  gr       h          hc         hh  \\\n",
        "0  en-US,en;q=0.8  US     Danvers  A6qOVH  MA  wfLQtf  1331822918  1.usa.gov   \n",
        "1             NaN  US       Provo  mwszkS  UT  mwszkS  1308262393       j.mp   \n",
        "2           en-US  US  Washington  xxr3Qb  DC  xxr3Qb  1331919941  1.usa.gov   \n",
        "3           pt-br  BR        Braz  zCaLwp  27  zUtuOu  1331923068  1.usa.gov   \n",
        "4  en-US,en;q=0.8  US  Shrewsbury  9b6kNl  MA  9b6kNl  1273672411     bit.ly   \n",
        "\n",
        "    kw         l                        ll  nk  \\\n",
        "0  NaN   orofrog   [42.576698, -70.954903]   1   \n",
        "1  NaN     bitly  [40.218102, -111.613297]   0   \n",
        "2  NaN     bitly     [38.9007, -77.043098]   1   \n",
        "3  NaN  alelex88  [-23.549999, -46.616699]   0   \n",
        "4  NaN     bitly   [42.286499, -71.714699]   0   \n",
        "\n",
        "                                                   r           t  \\\n",
        "0  http://www.facebook.com/l/7AQEFzjSi/1.usa.gov/...  1331923247   \n",
        "1                           http://www.AwareMap.com/  1331923249   \n",
        "2                               http://t.co/03elZC4Q  1331923250   \n",
        "3                                             direct  1331923249   \n",
        "4                http://www.shrewsbury-ma.gov/selco/  1331923251   \n",
        "\n",
        "                  tz                                                  u  \n",
        "0   America/New_York        http://www.ncbi.nlm.nih.gov/pubmed/22415991  \n",
        "1     America/Denver        http://www.monroecounty.gov/etc/911/rss.php  \n",
        "2   America/New_York  http://boxer.senate.gov/en/press/releases/0316...  \n",
        "3  America/Sao_Paulo            http://apod.nasa.gov/apod/ap120312.html  \n",
        "4   America/New_York  http://www.shrewsbury-ma.gov/egov/gallery/1341...  "
       ]
      }
     ],
     "prompt_number": 69
    },
    {
     "cell_type": "code",
     "collapsed": false,
     "input": [
      "frame['tz'][:10]"
     ],
     "language": "python",
     "metadata": {},
     "outputs": [
      {
       "metadata": {},
       "output_type": "pyout",
       "prompt_number": 70,
       "text": [
        "0     America/New_York\n",
        "1       America/Denver\n",
        "2     America/New_York\n",
        "3    America/Sao_Paulo\n",
        "4     America/New_York\n",
        "5     America/New_York\n",
        "6        Europe/Warsaw\n",
        "7                     \n",
        "8                     \n",
        "9                     \n",
        "Name: tz, dtype: object"
       ]
      }
     ],
     "prompt_number": 70
    },
    {
     "cell_type": "code",
     "collapsed": false,
     "input": [
      "tz_counts = frame['tz'].value_counts()\n",
      "tz_counts[:10]"
     ],
     "language": "python",
     "metadata": {},
     "outputs": [
      {
       "metadata": {},
       "output_type": "pyout",
       "prompt_number": 71,
       "text": [
        "America/New_York       1251\n",
        "                        521\n",
        "America/Chicago         400\n",
        "America/Los_Angeles     382\n",
        "America/Denver          191\n",
        "Europe/London            74\n",
        "Asia/Tokyo               37\n",
        "Pacific/Honolulu         36\n",
        "Europe/Madrid            35\n",
        "America/Sao_Paulo        33\n",
        "dtype: int64"
       ]
      }
     ],
     "prompt_number": 71
    },
    {
     "cell_type": "code",
     "collapsed": false,
     "input": [
      "clean_tz = frame['tz'].fillna('Missing')\n",
      "clean_tz[clean_tz == ''] = 'Unknown'\n",
      "tz_counts = clean_tz.value_counts()\n",
      "tz_counts[:10]"
     ],
     "language": "python",
     "metadata": {},
     "outputs": [
      {
       "metadata": {},
       "output_type": "pyout",
       "prompt_number": 72,
       "text": [
        "America/New_York       1251\n",
        "Unknown                 521\n",
        "America/Chicago         400\n",
        "America/Los_Angeles     382\n",
        "America/Denver          191\n",
        "Missing                 120\n",
        "Europe/London            74\n",
        "Asia/Tokyo               37\n",
        "Pacific/Honolulu         36\n",
        "Europe/Madrid            35\n",
        "dtype: int64"
       ]
      }
     ],
     "prompt_number": 72
    },
    {
     "cell_type": "code",
     "collapsed": false,
     "input": [
      "tz_counts[:10].plot(kind='barh', rot=0)"
     ],
     "language": "python",
     "metadata": {},
     "outputs": [
      {
       "metadata": {},
       "output_type": "pyout",
       "prompt_number": 73,
       "text": [
        "<matplotlib.axes.AxesSubplot at 0x1146c0050>"
       ]
      },
      {
       "metadata": {},
       "output_type": "display_data",
       "png": "[encoded data removed]",
       "text": [
        "<matplotlib.figure.Figure at 0x11476a3d0>"
       ]
      }
     ],
     "prompt_number": 73
    },
    {
     "cell_type": "code",
     "collapsed": false,
     "input": [
      "results = Series([x.split()[0] for x in frame.a.dropna()])\n",
      "results[:5]"
     ],
     "language": "python",
     "metadata": {},
     "outputs": [
      {
       "metadata": {},
       "output_type": "pyout",
       "prompt_number": 76,
       "text": [
        "0               Mozilla/5.0\n",
        "1    GoogleMaps/RochesterNY\n",
        "2               Mozilla/4.0\n",
        "3               Mozilla/5.0\n",
        "4               Mozilla/5.0\n",
        "dtype: object"
       ]
      }
     ],
     "prompt_number": 76
    },
    {
     "cell_type": "code",
     "collapsed": false,
     "input": [
      "results.value_counts()[:8]"
     ],
     "language": "python",
     "metadata": {},
     "outputs": [
      {
       "metadata": {},
       "output_type": "pyout",
       "prompt_number": 77,
       "text": [
        "Mozilla/5.0                 2594\n",
        "Mozilla/4.0                  601\n",
        "GoogleMaps/RochesterNY       121\n",
        "Opera/9.80                    34\n",
        "TEST_INTERNET_AGENT           24\n",
        "GoogleProducer                21\n",
        "Mozilla/6.0                    5\n",
        "BlackBerry8520/5.0.0.681       4\n",
        "dtype: int64"
       ]
      }
     ],
     "prompt_number": 77
    },
    {
     "cell_type": "code",
     "collapsed": false,
     "input": [
      "cframe = frame[frame.a.notnull()]"
     ],
     "language": "python",
     "metadata": {},
     "outputs": [],
     "prompt_number": 78
    },
    {
     "cell_type": "code",
     "collapsed": false,
     "input": [
      "operating_system = np.where(cframe['a'].str.contains('Windows'), 'Windows', 'Not Windows')"
     ],
     "language": "python",
     "metadata": {},
     "outputs": [],
     "prompt_number": 79
    },
    {
     "cell_type": "code",
     "collapsed": false,
     "input": [
      "operating_system[:5]"
     ],
     "language": "python",
     "metadata": {},
     "outputs": [
      {
       "metadata": {},
       "output_type": "pyout",
       "prompt_number": 80,
       "text": [
        "array(['Windows', 'Not Windows', 'Windows', 'Not Windows', 'Windows'], \n",
        "      dtype='|S11')"
       ]
      }
     ],
     "prompt_number": 80
    },
    {
     "cell_type": "code",
     "collapsed": false,
     "input": [
      "by_tz_os = cframe.groupby(['tz', operating_system])"
     ],
     "language": "python",
     "metadata": {},
     "outputs": [],
     "prompt_number": 81
    },
    {
     "cell_type": "code",
     "collapsed": false,
     "input": [
      "agg_counts = by_tz_os.size().unstack().fillna(0)"
     ],
     "language": "python",
     "metadata": {},
     "outputs": [],
     "prompt_number": 82
    },
    {
     "cell_type": "code",
     "collapsed": false,
     "input": [
      "agg_counts[:10]"
     ],
     "language": "python",
     "metadata": {},
     "outputs": [
      {
       "html": [
        "<div style=\"max-height:1000px;max-width:1500px;overflow:auto;\">\n",
        "<table border=\"1\" class=\"dataframe\">\n",
        "  <thead>\n",
        "    <tr style=\"text-align: right;\">\n",
        "      <th></th>\n",
        "      <th>Not Windows</th>\n",
        "      <th>Windows</th>\n",
        "    </tr>\n",
        "    <tr>\n",
        "      <th>tz</th>\n",
        "      <th></th>\n",
        "      <th></th>\n",
        "    </tr>\n",
        "  </thead>\n",
        "  <tbody>\n",
        "    <tr>\n",
        "      <th></th>\n",
        "      <td> 245</td>\n",
        "      <td> 276</td>\n",
        "    </tr>\n",
        "    <tr>\n",
        "      <th>Africa/Cairo</th>\n",
        "      <td>   0</td>\n",
        "      <td>   3</td>\n",
        "    </tr>\n",
        "    <tr>\n",
        "      <th>Africa/Casablanca</th>\n",
        "      <td>   0</td>\n",
        "      <td>   1</td>\n",
        "    </tr>\n",
        "    <tr>\n",
        "      <th>Africa/Ceuta</th>\n",
        "      <td>   0</td>\n",
        "      <td>   2</td>\n",
        "    </tr>\n",
        "    <tr>\n",
        "      <th>Africa/Johannesburg</th>\n",
        "      <td>   0</td>\n",
        "      <td>   1</td>\n",
        "    </tr>\n",
        "    <tr>\n",
        "      <th>Africa/Lusaka</th>\n",
        "      <td>   0</td>\n",
        "      <td>   1</td>\n",
        "    </tr>\n",
        "    <tr>\n",
        "      <th>America/Anchorage</th>\n",
        "      <td>   4</td>\n",
        "      <td>   1</td>\n",
        "    </tr>\n",
        "    <tr>\n",
        "      <th>America/Argentina/Buenos_Aires</th>\n",
        "      <td>   1</td>\n",
        "      <td>   0</td>\n",
        "    </tr>\n",
        "    <tr>\n",
        "      <th>America/Argentina/Cordoba</th>\n",
        "      <td>   0</td>\n",
        "      <td>   1</td>\n",
        "    </tr>\n",
        "    <tr>\n",
        "      <th>America/Argentina/Mendoza</th>\n",
        "      <td>   0</td>\n",
        "      <td>   1</td>\n",
        "    </tr>\n",
        "  </tbody>\n",
        "</table>\n",
        "</div>"
       ],
       "metadata": {},
       "output_type": "pyout",
       "prompt_number": 83,
       "text": [
        "                                Not Windows  Windows\n",
        "tz                                                  \n",
        "                                        245      276\n",
        "Africa/Cairo                              0        3\n",
        "Africa/Casablanca                         0        1\n",
        "Africa/Ceuta                              0        2\n",
        "Africa/Johannesburg                       0        1\n",
        "Africa/Lusaka                             0        1\n",
        "America/Anchorage                         4        1\n",
        "America/Argentina/Buenos_Aires            1        0\n",
        "America/Argentina/Cordoba                 0        1\n",
        "America/Argentina/Mendoza                 0        1"
       ]
      }
     ],
     "prompt_number": 83
    },
    {
     "cell_type": "code",
     "collapsed": false,
     "input": [
      "indexer = agg_counts.sum(1).argsort()"
     ],
     "language": "python",
     "metadata": {},
     "outputs": [],
     "prompt_number": 84
    },
    {
     "cell_type": "code",
     "collapsed": false,
     "input": [
      "indexer[:10]"
     ],
     "language": "python",
     "metadata": {},
     "outputs": [
      {
       "metadata": {},
       "output_type": "pyout",
       "prompt_number": 85,
       "text": [
        "tz\n",
        "                                  24\n",
        "Africa/Cairo                      20\n",
        "Africa/Casablanca                 21\n",
        "Africa/Ceuta                      92\n",
        "Africa/Johannesburg               87\n",
        "Africa/Lusaka                     53\n",
        "America/Anchorage                 54\n",
        "America/Argentina/Buenos_Aires    57\n",
        "America/Argentina/Cordoba         26\n",
        "America/Argentina/Mendoza         55\n",
        "dtype: int64"
       ]
      }
     ],
     "prompt_number": 85
    },
    {
     "cell_type": "code",
     "collapsed": false,
     "input": [
      "count_subset = agg_counts.take(indexer)[-10:]"
     ],
     "language": "python",
     "metadata": {},
     "outputs": [],
     "prompt_number": 86
    },
    {
     "cell_type": "code",
     "collapsed": false,
     "input": [
      "count_subset"
     ],
     "language": "python",
     "metadata": {},
     "outputs": [
      {
       "html": [
        "<div style=\"max-height:1000px;max-width:1500px;overflow:auto;\">\n",
        "<table border=\"1\" class=\"dataframe\">\n",
        "  <thead>\n",
        "    <tr style=\"text-align: right;\">\n",
        "      <th></th>\n",
        "      <th>Not Windows</th>\n",
        "      <th>Windows</th>\n",
        "    </tr>\n",
        "    <tr>\n",
        "      <th>tz</th>\n",
        "      <th></th>\n",
        "      <th></th>\n",
        "    </tr>\n",
        "  </thead>\n",
        "  <tbody>\n",
        "    <tr>\n",
        "      <th>America/Sao_Paulo</th>\n",
        "      <td>  13</td>\n",
        "      <td>  20</td>\n",
        "    </tr>\n",
        "    <tr>\n",
        "      <th>Europe/Madrid</th>\n",
        "      <td>  16</td>\n",
        "      <td>  19</td>\n",
        "    </tr>\n",
        "    <tr>\n",
        "      <th>Pacific/Honolulu</th>\n",
        "      <td>   0</td>\n",
        "      <td>  36</td>\n",
        "    </tr>\n",
        "    <tr>\n",
        "      <th>Asia/Tokyo</th>\n",
        "      <td>   2</td>\n",
        "      <td>  35</td>\n",
        "    </tr>\n",
        "    <tr>\n",
        "      <th>Europe/London</th>\n",
        "      <td>  43</td>\n",
        "      <td>  31</td>\n",
        "    </tr>\n",
        "    <tr>\n",
        "      <th>America/Denver</th>\n",
        "      <td> 132</td>\n",
        "      <td>  59</td>\n",
        "    </tr>\n",
        "    <tr>\n",
        "      <th>America/Los_Angeles</th>\n",
        "      <td> 130</td>\n",
        "      <td> 252</td>\n",
        "    </tr>\n",
        "    <tr>\n",
        "      <th>America/Chicago</th>\n",
        "      <td> 115</td>\n",
        "      <td> 285</td>\n",
        "    </tr>\n",
        "    <tr>\n",
        "      <th></th>\n",
        "      <td> 245</td>\n",
        "      <td> 276</td>\n",
        "    </tr>\n",
        "    <tr>\n",
        "      <th>America/New_York</th>\n",
        "      <td> 339</td>\n",
        "      <td> 912</td>\n",
        "    </tr>\n",
        "  </tbody>\n",
        "</table>\n",
        "</div>"
       ],
       "metadata": {},
       "output_type": "pyout",
       "prompt_number": 87,
       "text": [
        "                     Not Windows  Windows\n",
        "tz                                       \n",
        "America/Sao_Paulo             13       20\n",
        "Europe/Madrid                 16       19\n",
        "Pacific/Honolulu               0       36\n",
        "Asia/Tokyo                     2       35\n",
        "Europe/London                 43       31\n",
        "America/Denver               132       59\n",
        "America/Los_Angeles          130      252\n",
        "America/Chicago              115      285\n",
        "                             245      276\n",
        "America/New_York             339      912"
       ]
      }
     ],
     "prompt_number": 87
    },
    {
     "cell_type": "code",
     "collapsed": false,
     "input": [
      "count_subset.plot(kind='barh', stacked=True)"
     ],
     "language": "python",
     "metadata": {},
     "outputs": [
      {
       "metadata": {},
       "output_type": "pyout",
       "prompt_number": 88,
       "text": [
        "<matplotlib.axes.AxesSubplot at 0x114f33690>"
       ]
      },
      {
       "metadata": {},
       "output_type": "display_data",
       "png": "[encoded data removed]",
       "text": [
        "<matplotlib.figure.Figure at 0x114f1cd10>"
       ]
      }
     ],
     "prompt_number": 88
    },
    {
     "cell_type": "code",
     "collapsed": false,
     "input": [
      "normed_subset = count_subset.div(count_subset.sum(1), axis =0)"
     ],
     "language": "python",
     "metadata": {},
     "outputs": [],
     "prompt_number": 89
    },
    {
     "cell_type": "code",
     "collapsed": false,
     "input": [
      "normed_subset.plot(kind='barh', stacked=True)"
     ],
     "language": "python",
     "metadata": {},
     "outputs": [
      {
       "metadata": {},
       "output_type": "pyout",
       "prompt_number": 90,
       "text": [
        "<matplotlib.axes.AxesSubplot at 0x1155aa190>"
       ]
      },
      {
       "metadata": {},
       "output_type": "display_data",
       "png": "[encoded data removed]",
       "text": [
        "<matplotlib.figure.Figure at 0x1147715d0>"
       ]
      }
     ],
     "prompt_number": 90
    },
    {
     "cell_type": "code",
     "collapsed": false,
     "input": [],
     "language": "python",
     "metadata": {},
     "outputs": []
    }
   ],
   "metadata": {}
  }
 ]
}